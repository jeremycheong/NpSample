{
 "cells": [
  {
   "cell_type": "code",
   "execution_count": 1,
   "metadata": {},
   "outputs": [],
   "source": [
    "import numpy as np\n",
    "\n",
    "SplitLine = \"\\n==============================\\n\"\n",
    "\n",
    "def ArrayAttr(x):\n",
    "    print(f\"维度数(秩)：{x.ndim}; 元素类型：{x.dtype}; 数组的维度形状：{x.shape}; 元素个数：{x.size}; 元素的字节大小：{x.itemsize}\", end=SplitLine)"
   ]
  },
  {
   "cell_type": "code",
   "execution_count": 2,
   "metadata": {},
   "outputs": [
    {
     "name": "stdout",
     "output_type": "stream",
     "text": [
      "<class 'numpy.ndarray'>\n",
      "<class 'numpy.ndarray'>\n",
      "[0 1 2 3 4 5 6 7 8 9]\n",
      "[ 1  3  5  7  9 11]\n",
      "[1.  4.5 8. ]\n",
      "[  2.   4.   8.  16.  32.  64. 128. 256.]\n",
      "==============================\n",
      "(2, 3, 4)\n",
      "==============================\n",
      "[[[1. 1. 1. 1.]\n",
      "  [1. 1. 1. 1.]\n",
      "  [1. 1. 1. 1.]]\n",
      "\n",
      " [[1. 1. 1. 1.]\n",
      "  [1. 1. 1. 1.]\n",
      "  [1. 1. 1. 1.]]]\n",
      "==============================\n"
     ]
    }
   ],
   "source": [
    "lst_a = [1, 2, 3, 4]\n",
    "a = np.asarray_chkfinite(lst_a)\n",
    "print(type(a))\n",
    "b= np.array(lst_a)\n",
    "print(type(b))\n",
    "\n",
    "x = np.arange(10)\n",
    "print(x)\n",
    "x = np.arange(1, 13, 2)\n",
    "print(x)\n",
    "# 构建在此范围内需要的n个数据。等差数列\n",
    "x = np.linspace(1, 8, 3)\n",
    "print(x)\n",
    "# 构建在此范围内需要的n个数据。等比数列, 起始值=base^start，结束值=base^stop\n",
    "x = np.logspace(1, 8, 8, base=2)\n",
    "print(x, end=SplitLine)\n",
    "x = np.zeros((2, 3, 4), dtype=float)\n",
    "print(x.shape, end=SplitLine)\n",
    "x = np.ones([2, 3, 4], dtype=float)\n",
    "print(x, end=SplitLine)"
   ]
  }
 ],
 "metadata": {
  "kernelspec": {
   "display_name": ".venv",
   "language": "python",
   "name": "python3"
  },
  "language_info": {
   "codemirror_mode": {
    "name": "ipython",
    "version": 3
   },
   "file_extension": ".py",
   "mimetype": "text/x-python",
   "name": "python",
   "nbconvert_exporter": "python",
   "pygments_lexer": "ipython3",
   "version": "3.10.10"
  }
 },
 "nbformat": 4,
 "nbformat_minor": 2
}
