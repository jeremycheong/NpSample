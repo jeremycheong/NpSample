{
 "cells": [
  {
   "cell_type": "code",
   "execution_count": 1,
   "metadata": {},
   "outputs": [],
   "source": [
    "import numpy as np\n",
    "\n",
    "SplitLine = \"\\n==============================\\n\"\n",
    "\n",
    "def PrintArray(info:str, x):\n",
    "    print(info + \":\\n\", x)\n",
    "    print(f\"维度数(秩)：{x.ndim}; 元素类型：{x.dtype}; 数组的维度形状：{x.shape}; 元素个数：{x.size}; 元素的字节大小：{x.itemsize}\", end=SplitLine)"
   ]
  },
  {
   "cell_type": "code",
   "execution_count": 2,
   "metadata": {},
   "outputs": [
    {
     "name": "stdout",
     "output_type": "stream",
     "text": [
      "a:\n",
      " [[20  5  8 42]\n",
      " [ 9 22 21  3]\n",
      " [48 38 23 33]]\n",
      "维度数(秩)：2; 元素类型：int64; 数组的维度形状：(3, 4); 元素个数：12; 元素的字节大小：8\n",
      "==============================\n"
     ]
    }
   ],
   "source": [
    "a = np.random.randint(1, 50, size=(3, 4))\n",
    "PrintArray(\"a\", a)"
   ]
  },
  {
   "cell_type": "markdown",
   "metadata": {},
   "source": [
    "* numpy.sort() 函数返回输入数组的排序副本"
   ]
  },
  {
   "cell_type": "code",
   "execution_count": 7,
   "metadata": {},
   "outputs": [
    {
     "name": "stdout",
     "output_type": "stream",
     "text": [
      "b:\n",
      " [[ 5  8 20 42]\n",
      " [ 3  9 21 22]\n",
      " [23 33 38 48]]\n",
      "维度数(秩)：2; 元素类型：int64; 数组的维度形状：(3, 4); 元素个数：12; 元素的字节大小：8\n",
      "==============================\n",
      "b0:\n",
      " [[ 9  5  8  3]\n",
      " [20 22 21 33]\n",
      " [48 38 23 42]]\n",
      "维度数(秩)：2; 元素类型：int64; 数组的维度形状：(3, 4); 元素个数：12; 元素的字节大小：8\n",
      "==============================\n",
      "p:\n",
      " [(b'raju', 21) (b'anil', 25) (b'ravi', 17) (b'amar', 27)]\n",
      "维度数(秩)：1; 元素类型：[('name', 'S10'), ('age', '<i8')]; 数组的维度形状：(4,); 元素个数：4; 元素的字节大小：18\n",
      "==============================\n",
      "bp0:\n",
      " [(b'amar', 27) (b'anil', 25) (b'raju', 21) (b'ravi', 17)]\n",
      "维度数(秩)：1; 元素类型：[('name', 'S10'), ('age', '<i8')]; 数组的维度形状：(4,); 元素个数：4; 元素的字节大小：18\n",
      "==============================\n",
      "b1:\n",
      " [[ 5  8 20 42]\n",
      " [ 3  9 21 22]\n",
      " [23 33 38 48]]\n",
      "维度数(秩)：2; 元素类型：int64; 数组的维度形状：(3, 4); 元素个数：12; 元素的字节大小：8\n",
      "==============================\n",
      "b1_inv:\n",
      " [[42 20  8  5]\n",
      " [22 21  9  3]\n",
      " [48 38 33 23]]\n",
      "维度数(秩)：2; 元素类型：int64; 数组的维度形状：(3, 4); 元素个数：12; 元素的字节大小：8\n",
      "==============================\n"
     ]
    }
   ],
   "source": [
    "b = np.sort(a)\n",
    "PrintArray(\"b\", b)\n",
    "\n",
    "b0 = np.sort(a, axis=0)\n",
    "PrintArray(\"b0\", b0)\n",
    "\n",
    "dt = np.dtype([('name',  'S10'),('age',  int)]) \n",
    "p = np.array([(\"raju\",21),(\"anil\",25),(\"ravi\",  17),  (\"amar\",27)], dtype = dt) \n",
    "PrintArray(\"p\", p)\n",
    "bp0 = np.sort(p, order=\"name\")\n",
    "PrintArray(\"bp0\", bp0)\n",
    "\n",
    "# 无降序选项，可通过切片操作进行转换\n",
    "b1 = np.sort(a, axis=1)\n",
    "PrintArray(\"b1\", b1)\n",
    "b1_inv = b1[:, ::-1]\n",
    "PrintArray(\"b1_inv\", b1_inv)"
   ]
  },
  {
   "cell_type": "markdown",
   "metadata": {},
   "source": [
    "* numpy.argsort() 函数返回的是数组值从小到大的索引值。"
   ]
  },
  {
   "cell_type": "code",
   "execution_count": 22,
   "metadata": {},
   "outputs": [
    {
     "name": "stdout",
     "output_type": "stream",
     "text": [
      "a:\n",
      " [[20  5  8 42]\n",
      " [ 9 22 21  3]\n",
      " [48 38 23 33]]\n",
      "维度数(秩)：2; 元素类型：int64; 数组的维度形状：(3, 4); 元素个数：12; 元素的字节大小：8\n",
      "==============================\n",
      "b:\n",
      " [[1 2 0 3]\n",
      " [3 0 2 1]\n",
      " [2 3 1 0]]\n",
      "维度数(秩)：2; 元素类型：int64; 数组的维度形状：(3, 4); 元素个数：12; 元素的字节大小：8\n",
      "==============================\n",
      "b0:\n",
      " [[1 0 0 1]\n",
      " [0 1 1 2]\n",
      " [2 2 2 0]]\n",
      "维度数(秩)：2; 元素类型：int64; 数组的维度形状：(3, 4); 元素个数：12; 元素的字节大小：8\n",
      "==============================\n",
      "b1:\n",
      " [[1 2 0 3]\n",
      " [3 0 2 1]\n",
      " [2 3 1 0]]\n",
      "维度数(秩)：2; 元素类型：int64; 数组的维度形状：(3, 4); 元素个数：12; 元素的字节大小：8\n",
      "==============================\n",
      "a:\n",
      " [[20  5  8 42]\n",
      " [ 9 22 21  3]\n",
      " [48 38 23 33]]\n",
      "维度数(秩)：2; 元素类型：int64; 数组的维度形状：(3, 4); 元素个数：12; 元素的字节大小：8\n",
      "==============================\n",
      "sorted_a:\n",
      " [[ 5  8 20 42]\n",
      " [ 3  9 21 22]\n",
      " [23 33 38 48]]\n",
      "维度数(秩)：2; 元素类型：int64; 数组的维度形状：(3, 4); 元素个数：12; 元素的字节大小：8\n",
      "==============================\n"
     ]
    }
   ],
   "source": [
    "PrintArray(\"a\", a)\n",
    "\n",
    "# 并不会将a进行修改\n",
    "b = np.argsort(a)\n",
    "PrintArray(\"b\", b)\n",
    "\n",
    "b0 = np.argsort(a, axis=0)\n",
    "PrintArray(\"b0\", b0)\n",
    "b1 = np.argsort(a, axis=1)\n",
    "PrintArray(\"b1\", b1)\n",
    "\n",
    "PrintArray(\"a\", a)\n",
    "\n",
    "sorted_a = np.empty_like(a)\n",
    "# 使用循环重新排序\n",
    "for xarr, iarr, dsarr in zip(a, b, sorted_a):\n",
    "    for i in range(len(xarr)):\n",
    "        dsarr[i] = xarr[iarr[i]]\n",
    "PrintArray(\"sorted_a\", sorted_a)"
   ]
  },
  {
   "cell_type": "markdown",
   "metadata": {},
   "source": [
    "* numpy.argmax() 和 numpy.argmin()函数分别沿给定轴返回最大和最小元素的索引。"
   ]
  },
  {
   "cell_type": "code",
   "execution_count": 24,
   "metadata": {},
   "outputs": [
    {
     "name": "stdout",
     "output_type": "stream",
     "text": [
      "a:\n",
      " [[20  5  8 42]\n",
      " [ 9 22 21  3]\n",
      " [48 38 23 33]]\n",
      "维度数(秩)：2; 元素类型：int64; 数组的维度形状：(3, 4); 元素个数：12; 元素的字节大小：8\n",
      "==============================\n",
      "b_imin:\n",
      " 7\n",
      "维度数(秩)：0; 元素类型：int64; 数组的维度形状：(); 元素个数：1; 元素的字节大小：8\n",
      "==============================\n",
      "b_imin0:\n",
      " [1 0 0 1]\n",
      "维度数(秩)：1; 元素类型：int64; 数组的维度形状：(4,); 元素个数：4; 元素的字节大小：8\n",
      "==============================\n",
      "b_imin1:\n",
      " [1 3 2]\n",
      "维度数(秩)：1; 元素类型：int64; 数组的维度形状：(3,); 元素个数：3; 元素的字节大小：8\n",
      "==============================\n",
      "b_imax:\n",
      " 8\n",
      "维度数(秩)：0; 元素类型：int64; 数组的维度形状：(); 元素个数：1; 元素的字节大小：8\n",
      "==============================\n",
      "b_imax0:\n",
      " [2 2 2 0]\n",
      "维度数(秩)：1; 元素类型：int64; 数组的维度形状：(4,); 元素个数：4; 元素的字节大小：8\n",
      "==============================\n",
      "b_imax1:\n",
      " [3 1 0]\n",
      "维度数(秩)：1; 元素类型：int64; 数组的维度形状：(3,); 元素个数：3; 元素的字节大小：8\n",
      "==============================\n"
     ]
    }
   ],
   "source": [
    "PrintArray(\"a\", a)\n",
    "\n",
    "b_imin = np.argmin(a)\n",
    "PrintArray(\"b_imin\", b_imin)\n",
    "b_imin0 = np.argmin(a, axis=0)\n",
    "PrintArray(\"b_imin0\", b_imin0)\n",
    "b_imin1 = np.argmin(a, axis=1)\n",
    "PrintArray(\"b_imin1\", b_imin1)\n",
    "\n",
    "b_imax = np.argmax(a)\n",
    "PrintArray(\"b_imax\", b_imax)\n",
    "b_imax0 = np.argmax(a, axis=0)\n",
    "PrintArray(\"b_imax0\", b_imax0)\n",
    "b_imax1 = np.argmax(a, axis=1)\n",
    "PrintArray(\"b_imax1\", b_imax1)"
   ]
  },
  {
   "cell_type": "markdown",
   "metadata": {},
   "source": [
    "* numpy.nonzero() 函数返回输入数组中非零元素的索引。"
   ]
  },
  {
   "cell_type": "code",
   "execution_count": 31,
   "metadata": {},
   "outputs": [
    {
     "name": "stdout",
     "output_type": "stream",
     "text": [
      "ae:\n",
      " [[1. 0. 0. 0.]\n",
      " [0. 1. 0. 0.]\n",
      " [0. 0. 1. 0.]]\n",
      "维度数(秩)：2; 元素类型：float64; 数组的维度形状：(3, 4); 元素个数：12; 元素的字节大小：8\n",
      "==============================\n",
      "ae_nzi:\n",
      " (array([0, 1, 2]), array([0, 1, 2]))\n",
      "ae_nz:\n",
      " [1. 1. 1.]\n",
      "维度数(秩)：1; 元素类型：float64; 数组的维度形状：(3,); 元素个数：3; 元素的字节大小：8\n",
      "==============================\n",
      "(0, 0):  1.0\n",
      "(1, 1):  1.0\n",
      "(2, 2):  1.0\n"
     ]
    }
   ],
   "source": [
    "ae = np.eye(3, 4)\n",
    "PrintArray(\"ae\", ae)\n",
    "\n",
    "ae_nzi = np.nonzero(ae)\n",
    "print(\"ae_nzi:\\n\", ae_nzi)\n",
    "\n",
    "# 获取非零元素\n",
    "ae_nz = ae[ae_nzi]\n",
    "PrintArray(\"ae_nz\", ae_nz)\n",
    "\n",
    "ax0, ax1 = ae_nzi\n",
    "for i, j in zip(ax0, ax1):\n",
    "    print(f\"({i}, {j}): \", ae[i][j])"
   ]
  },
  {
   "cell_type": "markdown",
   "metadata": {},
   "source": [
    "* numpy.where() 函数返回输入数组中满足给定条件的元素的索引。"
   ]
  },
  {
   "cell_type": "code",
   "execution_count": 41,
   "metadata": {},
   "outputs": [
    {
     "name": "stdout",
     "output_type": "stream",
     "text": [
      "a:\n",
      " [[20  5  8 42]\n",
      " [ 9 22 21  3]\n",
      " [48 38 23 33]]\n",
      "维度数(秩)：2; 元素类型：int64; 数组的维度形状：(3, 4); 元素个数：12; 元素的字节大小：8\n",
      "==============================\n",
      "b25:  (array([0, 2, 2, 2]), array([3, 0, 1, 3]))\n",
      "b:\n",
      " [42 48 38 33]\n",
      "维度数(秩)：1; 元素类型：int64; 数组的维度形状：(4,); 元素个数：4; 元素的字节大小：8\n",
      "==============================\n",
      "b25_0:\n",
      " [[40.  10.  16.  21. ]\n",
      " [18.  44.  42.   6. ]\n",
      " [24.  19.  46.  16.5]]\n",
      "维度数(秩)：2; 元素类型：float64; 数组的维度形状：(3, 4); 元素个数：12; 元素的字节大小：8\n",
      "==============================\n",
      "x:\n",
      " [[13 28 11 21]\n",
      " [10 22 16 10]\n",
      " [ 6 25 13 26]]\n",
      "维度数(秩)：2; 元素类型：int64; 数组的维度形状：(3, 4); 元素个数：12; 元素的字节大小：8\n",
      "==============================\n",
      "y:\n",
      " [[12 18 22 36]\n",
      " [14 33 24 31]\n",
      " [23 14 23 11]]\n",
      "维度数(秩)：2; 元素类型：int64; 数组的维度形状：(3, 4); 元素个数：12; 元素的字节大小：8\n",
      "==============================\n",
      "x_y:\n",
      " [[13 28 22 36]\n",
      " [14 33 24 31]\n",
      " [23 25 23 26]]\n",
      "维度数(秩)：2; 元素类型：int64; 数组的维度形状：(3, 4); 元素个数：12; 元素的字节大小：8\n",
      "==============================\n"
     ]
    }
   ],
   "source": [
    "PrintArray(\"a\", a)\n",
    "\n",
    "b25 = np.where(a > 25)\n",
    "print(\"b25: \", b25)\n",
    "\n",
    "b = a[b25]\n",
    "PrintArray(\"b\", b)\n",
    "\n",
    "# 满足条件的执行 “a/2”， 不满足条件的执行“2*a”\n",
    "b25_0 = np.where(a > 25, a/2, 2*a)\n",
    "PrintArray(\"b25_0\", b25_0)\n",
    "\n",
    "# 比较x，y两个数组大小，当对应位置x中的元素大于y中的元素，则取x中的元素，反之取y中的元素\n",
    "x = np.random.randint(1, 30, size=(3, 4))\n",
    "y = np.random.randint(10, 40, size=(3, 4))\n",
    "PrintArray(\"x\", x)\n",
    "PrintArray(\"y\", y)\n",
    "x_y = np.where(x > y, x, y)\n",
    "PrintArray(\"x_y\", x_y)"
   ]
  },
  {
   "cell_type": "markdown",
   "metadata": {},
   "source": [
    "* numpy.extract() 函数根据某个条件从数组中抽取元素，返回满条件的元素。"
   ]
  },
  {
   "cell_type": "code",
   "execution_count": 44,
   "metadata": {},
   "outputs": [
    {
     "name": "stdout",
     "output_type": "stream",
     "text": [
      "a:\n",
      " [[20  5  8 42]\n",
      " [ 9 22 21  3]\n",
      " [48 38 23 33]]\n",
      "维度数(秩)：2; 元素类型：int64; 数组的维度形状：(3, 4); 元素个数：12; 元素的字节大小：8\n",
      "==============================\n",
      "cond:\n",
      " [[ True False  True  True]\n",
      " [False  True False False]\n",
      " [ True  True False False]]\n",
      "维度数(秩)：2; 元素类型：bool; 数组的维度形状：(3, 4); 元素个数：12; 元素的字节大小：1\n",
      "==============================\n",
      "a_even:\n",
      " [20  8 42 22 48 38]\n",
      "维度数(秩)：1; 元素类型：int64; 数组的维度形状：(6,); 元素个数：6; 元素的字节大小：8\n",
      "==============================\n",
      "a_even_:\n",
      " [20  8 42 22 48 38]\n",
      "维度数(秩)：1; 元素类型：int64; 数组的维度形状：(6,); 元素个数：6; 元素的字节大小：8\n",
      "==============================\n"
     ]
    }
   ],
   "source": [
    "PrintArray(\"a\", a)\n",
    "\n",
    "cond = np.mod(a, 2) == 0\n",
    "PrintArray(\"cond\", cond)\n",
    "\n",
    "a_even = np.extract(cond, a)\n",
    "PrintArray(\"a_even\", a_even)\n",
    "# 等价\n",
    "a_even_ = a[cond]\n",
    "PrintArray(\"a_even_\", a_even_)"
   ]
  }
 ],
 "metadata": {
  "kernelspec": {
   "display_name": ".venv",
   "language": "python",
   "name": "python3"
  },
  "language_info": {
   "codemirror_mode": {
    "name": "ipython",
    "version": 3
   },
   "file_extension": ".py",
   "mimetype": "text/x-python",
   "name": "python",
   "nbconvert_exporter": "python",
   "pygments_lexer": "ipython3",
   "version": "3.10.10"
  }
 },
 "nbformat": 4,
 "nbformat_minor": 2
}
